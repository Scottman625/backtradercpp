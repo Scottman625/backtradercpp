﻿{
 "cells": [
  {
   "cell_type": "code",
   "execution_count": null,
   "metadata": {},
   "outputs": [],
   "source": []
  }
 ],
 "metadata": {
  "kernelspec": {
   "display_name": "Python 3.10.5 64-bit",
   "language": "python",
   "name": "python3"
  },
  "language_info": {
   "name": "python",
   "version": "3.10.5"
  },
  "orig_nbformat": 4,
  "vscode": {
   "interpreter": {
    "hash": "c5dec8b0832268acb329dcfb56f17f450030febdfb64dcd05e5a9f38258463ff"
   }
  }
 },
 "nbformat": 4,
 "nbformat_minor": 2
}
